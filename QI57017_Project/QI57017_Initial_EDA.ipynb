{
  "nbformat": 4,
  "nbformat_minor": 0,
  "metadata": {
    "colab": {
      "name": "QI57017_Initial_EDA.ipynb",
      "provenance": []
    },
    "kernelspec": {
      "name": "python3",
      "display_name": "Python 3"
    },
    "language_info": {
      "name": "python"
    }
  },
  "cells": [
    {
      "cell_type": "markdown",
      "metadata": {
        "id": "_69ehjhmttWS"
      },
      "source": [
        "# **Forex Bid Price Prediction**"
      ]
    },
    {
      "cell_type": "markdown",
      "metadata": {
        "id": "FTy6KcM1tpfI"
      },
      "source": [
        "### **I want to predict the number of times the bid prices changes within a time interval and classify whether the bid price rises in the next time interval or not.**"
      ]
    },
    {
      "cell_type": "markdown",
      "metadata": {
        "id": "wBr3xAdU95Q5"
      },
      "source": [
        "### For now, I didn't make any changes to the dataframe.But, I would like to extract Monthly changes by splitting Timestamp column."
      ]
    },
    {
      "cell_type": "code",
      "metadata": {
        "id": "mBJ9S05EtNJl"
      },
      "source": [
        "import pandas as pd\n",
        "import seaborn as sns\n",
        "import matplotlib.pyplot as plt"
      ],
      "execution_count": 8,
      "outputs": []
    },
    {
      "cell_type": "code",
      "metadata": {
        "id": "YJb6OCYhtTls"
      },
      "source": [
        "df=pd.read_csv('/content/FOREX_usddkk-hour-High.csv')"
      ],
      "execution_count": 2,
      "outputs": []
    },
    {
      "cell_type": "code",
      "metadata": {
        "colab": {
          "base_uri": "https://localhost:8080/",
          "height": 419
        },
        "id": "1ey1qCCitfkd",
        "outputId": "c63d8e75-092e-4943-962a-d5ffaf79293f"
      },
      "source": [
        "df"
      ],
      "execution_count": 3,
      "outputs": [
        {
          "output_type": "execute_result",
          "data": {
            "text/html": [
              "<div>\n",
              "<style scoped>\n",
              "    .dataframe tbody tr th:only-of-type {\n",
              "        vertical-align: middle;\n",
              "    }\n",
              "\n",
              "    .dataframe tbody tr th {\n",
              "        vertical-align: top;\n",
              "    }\n",
              "\n",
              "    .dataframe thead th {\n",
              "        text-align: right;\n",
              "    }\n",
              "</style>\n",
              "<table border=\"1\" class=\"dataframe\">\n",
              "  <thead>\n",
              "    <tr style=\"text-align: right;\">\n",
              "      <th></th>\n",
              "      <th>Timestamp</th>\n",
              "      <th>Bid_Open</th>\n",
              "      <th>Bid_High</th>\n",
              "      <th>Bid_Low</th>\n",
              "      <th>Bid_Close</th>\n",
              "      <th>Bid_Volume</th>\n",
              "      <th>Ask_Open</th>\n",
              "      <th>Ask_High</th>\n",
              "      <th>Ask_Low</th>\n",
              "      <th>Ask_Close</th>\n",
              "      <th>Ask_Volume</th>\n",
              "      <th>Class</th>\n",
              "    </tr>\n",
              "  </thead>\n",
              "  <tbody>\n",
              "    <tr>\n",
              "      <th>0</th>\n",
              "      <td>'2012-01-01T23:00:00'</td>\n",
              "      <td>5.74280</td>\n",
              "      <td>5.74397</td>\n",
              "      <td>5.73899</td>\n",
              "      <td>5.74051</td>\n",
              "      <td>383.6400</td>\n",
              "      <td>5.74439</td>\n",
              "      <td>5.74701</td>\n",
              "      <td>5.73968</td>\n",
              "      <td>5.74353</td>\n",
              "      <td>235.2000</td>\n",
              "      <td>True</td>\n",
              "    </tr>\n",
              "    <tr>\n",
              "      <th>1</th>\n",
              "      <td>'2012-01-02T00:00:00'</td>\n",
              "      <td>5.74076</td>\n",
              "      <td>5.74333</td>\n",
              "      <td>5.73719</td>\n",
              "      <td>5.74014</td>\n",
              "      <td>352.2400</td>\n",
              "      <td>5.74328</td>\n",
              "      <td>5.74913</td>\n",
              "      <td>5.73823</td>\n",
              "      <td>5.74271</td>\n",
              "      <td>328.9600</td>\n",
              "      <td>True</td>\n",
              "    </tr>\n",
              "    <tr>\n",
              "      <th>2</th>\n",
              "      <td>'2012-01-02T01:00:00'</td>\n",
              "      <td>5.74013</td>\n",
              "      <td>5.74609</td>\n",
              "      <td>5.73906</td>\n",
              "      <td>5.73953</td>\n",
              "      <td>348.1300</td>\n",
              "      <td>5.74272</td>\n",
              "      <td>5.74661</td>\n",
              "      <td>5.73972</td>\n",
              "      <td>5.74254</td>\n",
              "      <td>344.0500</td>\n",
              "      <td>False</td>\n",
              "    </tr>\n",
              "    <tr>\n",
              "      <th>3</th>\n",
              "      <td>'2012-01-02T02:00:00'</td>\n",
              "      <td>5.73997</td>\n",
              "      <td>5.74392</td>\n",
              "      <td>5.73943</td>\n",
              "      <td>5.74261</td>\n",
              "      <td>538.5100</td>\n",
              "      <td>5.74093</td>\n",
              "      <td>5.74616</td>\n",
              "      <td>5.74040</td>\n",
              "      <td>5.74417</td>\n",
              "      <td>574.9600</td>\n",
              "      <td>True</td>\n",
              "    </tr>\n",
              "    <tr>\n",
              "      <th>4</th>\n",
              "      <td>'2012-01-02T03:00:00'</td>\n",
              "      <td>5.74234</td>\n",
              "      <td>5.75146</td>\n",
              "      <td>5.74234</td>\n",
              "      <td>5.74635</td>\n",
              "      <td>1206.7200</td>\n",
              "      <td>5.74310</td>\n",
              "      <td>5.75336</td>\n",
              "      <td>5.74310</td>\n",
              "      <td>5.74671</td>\n",
              "      <td>1133.7100</td>\n",
              "      <td>False</td>\n",
              "    </tr>\n",
              "    <tr>\n",
              "      <th>...</th>\n",
              "      <td>...</td>\n",
              "      <td>...</td>\n",
              "      <td>...</td>\n",
              "      <td>...</td>\n",
              "      <td>...</td>\n",
              "      <td>...</td>\n",
              "      <td>...</td>\n",
              "      <td>...</td>\n",
              "      <td>...</td>\n",
              "      <td>...</td>\n",
              "      <td>...</td>\n",
              "      <td>...</td>\n",
              "    </tr>\n",
              "    <tr>\n",
              "      <th>43820</th>\n",
              "      <td>'2018-12-31T19:00:00'</td>\n",
              "      <td>6.51925</td>\n",
              "      <td>6.52442</td>\n",
              "      <td>6.51739</td>\n",
              "      <td>6.52297</td>\n",
              "      <td>7742.4502</td>\n",
              "      <td>6.51975</td>\n",
              "      <td>6.52499</td>\n",
              "      <td>6.51779</td>\n",
              "      <td>6.52354</td>\n",
              "      <td>7925.2700</td>\n",
              "      <td>False</td>\n",
              "    </tr>\n",
              "    <tr>\n",
              "      <th>43821</th>\n",
              "      <td>'2018-12-31T20:00:00'</td>\n",
              "      <td>6.52297</td>\n",
              "      <td>6.52333</td>\n",
              "      <td>6.51771</td>\n",
              "      <td>6.51931</td>\n",
              "      <td>3648.2000</td>\n",
              "      <td>6.52352</td>\n",
              "      <td>6.52383</td>\n",
              "      <td>6.51841</td>\n",
              "      <td>6.52003</td>\n",
              "      <td>3520.2000</td>\n",
              "      <td>False</td>\n",
              "    </tr>\n",
              "    <tr>\n",
              "      <th>43822</th>\n",
              "      <td>'2018-12-31T21:00:00'</td>\n",
              "      <td>6.51921</td>\n",
              "      <td>6.51921</td>\n",
              "      <td>6.51368</td>\n",
              "      <td>6.51652</td>\n",
              "      <td>2830.3999</td>\n",
              "      <td>6.51977</td>\n",
              "      <td>6.51977</td>\n",
              "      <td>6.51494</td>\n",
              "      <td>6.51768</td>\n",
              "      <td>2801.1001</td>\n",
              "      <td>False</td>\n",
              "    </tr>\n",
              "    <tr>\n",
              "      <th>43823</th>\n",
              "      <td>'2018-12-31T22:00:00'</td>\n",
              "      <td>6.51653</td>\n",
              "      <td>6.51653</td>\n",
              "      <td>6.50835</td>\n",
              "      <td>6.50920</td>\n",
              "      <td>2026.8500</td>\n",
              "      <td>6.51767</td>\n",
              "      <td>6.51771</td>\n",
              "      <td>6.51169</td>\n",
              "      <td>6.51363</td>\n",
              "      <td>2009.5500</td>\n",
              "      <td>False</td>\n",
              "    </tr>\n",
              "    <tr>\n",
              "      <th>43824</th>\n",
              "      <td>'2018-12-31T23:00:00'</td>\n",
              "      <td>6.50920</td>\n",
              "      <td>6.50920</td>\n",
              "      <td>6.50920</td>\n",
              "      <td>6.50920</td>\n",
              "      <td>0.0000</td>\n",
              "      <td>6.51363</td>\n",
              "      <td>6.51363</td>\n",
              "      <td>6.51363</td>\n",
              "      <td>6.51363</td>\n",
              "      <td>0.0000</td>\n",
              "      <td>False</td>\n",
              "    </tr>\n",
              "  </tbody>\n",
              "</table>\n",
              "<p>43825 rows × 12 columns</p>\n",
              "</div>"
            ],
            "text/plain": [
              "                   Timestamp  Bid_Open  Bid_High  ...  Ask_Close  Ask_Volume  Class\n",
              "0      '2012-01-01T23:00:00'   5.74280   5.74397  ...    5.74353    235.2000   True\n",
              "1      '2012-01-02T00:00:00'   5.74076   5.74333  ...    5.74271    328.9600   True\n",
              "2      '2012-01-02T01:00:00'   5.74013   5.74609  ...    5.74254    344.0500  False\n",
              "3      '2012-01-02T02:00:00'   5.73997   5.74392  ...    5.74417    574.9600   True\n",
              "4      '2012-01-02T03:00:00'   5.74234   5.75146  ...    5.74671   1133.7100  False\n",
              "...                      ...       ...       ...  ...        ...         ...    ...\n",
              "43820  '2018-12-31T19:00:00'   6.51925   6.52442  ...    6.52354   7925.2700  False\n",
              "43821  '2018-12-31T20:00:00'   6.52297   6.52333  ...    6.52003   3520.2000  False\n",
              "43822  '2018-12-31T21:00:00'   6.51921   6.51921  ...    6.51768   2801.1001  False\n",
              "43823  '2018-12-31T22:00:00'   6.51653   6.51653  ...    6.51363   2009.5500  False\n",
              "43824  '2018-12-31T23:00:00'   6.50920   6.50920  ...    6.51363      0.0000  False\n",
              "\n",
              "[43825 rows x 12 columns]"
            ]
          },
          "metadata": {},
          "execution_count": 3
        }
      ]
    },
    {
      "cell_type": "markdown",
      "metadata": {
        "id": "bUrqhMLKv024"
      },
      "source": [
        " ## **Dataset Description**\n",
        "### **Features**\n",
        "1. `Timestamp`: The time of the current data point (Europe/Amsterdam).\n",
        "2. `Bid_Open`: The bid price at the start of this time interval\n",
        "3. `Bid_High`: The highest bid price during this time interval\n",
        "4. `Bid_Low`: The lowest bid price during this time interval\n",
        "5. `Bid_Close`: The bid price at the end of this time interval\n",
        "6. `Bid_Volume`: The number of times the Bid Price changed within this time interval\n",
        "7. `Ask_Open`: The ask price at the start of this time interval\n",
        "8. `Ask_High`: The highest ask price during this time interval\n",
        "9. `Ask_Low`: The lowest ask price during this time interval\n",
        "10. `Ask_Close`: The ask price at the end of this time interval\n",
        "11. `Ask_Volume`: The number of times the Ask Price changed within this time interval\n",
        "12. `Class`: Whether the average price will go up during the next interval\n",
        "\n",
        "* This is the historical price data of the FOREX USD/DKK from Dukascopy.\n",
        "* One instance (row) is one candlestick of one hour.\n",
        "* The whole dataset has the data range from 1-1-2018 to 13-12-2018 and does not include the weekends, since the FOREX is not traded in the weekend.\n",
        "* The timezone of the feature Timestamp is Europe/Amsterdam.\n",
        "* The class attribute is the direction of the mean of the High_Bid and the High_Ask of the following hour,relative to the High_Bid and High_Ask mean of the current minute.\n",
        "* This means the class attribute is True when the mean High price is going up the following hour,and the class attribute is False when the mean High price is going down (or stays the same) the following hour.\n"
      ]
    },
    {
      "cell_type": "code",
      "metadata": {
        "colab": {
          "base_uri": "https://localhost:8080/"
        },
        "id": "daeMRdwVtguY",
        "outputId": "2042aaf7-23d3-4eee-ab82-7aeccb63382c"
      },
      "source": [
        "df.isna().sum()"
      ],
      "execution_count": 5,
      "outputs": [
        {
          "output_type": "execute_result",
          "data": {
            "text/plain": [
              "Timestamp     0\n",
              "Bid_Open      0\n",
              "Bid_High      0\n",
              "Bid_Low       0\n",
              "Bid_Close     0\n",
              "Bid_Volume    0\n",
              "Ask_Open      0\n",
              "Ask_High      0\n",
              "Ask_Low       0\n",
              "Ask_Close     0\n",
              "Ask_Volume    0\n",
              "Class         0\n",
              "dtype: int64"
            ]
          },
          "metadata": {},
          "execution_count": 5
        }
      ]
    },
    {
      "cell_type": "code",
      "metadata": {
        "colab": {
          "base_uri": "https://localhost:8080/"
        },
        "id": "RmycFcH-u6SD",
        "outputId": "f32d777f-0289-464d-c807-68a1a850cca8"
      },
      "source": [
        "df.info()"
      ],
      "execution_count": 6,
      "outputs": [
        {
          "output_type": "stream",
          "name": "stdout",
          "text": [
            "<class 'pandas.core.frame.DataFrame'>\n",
            "RangeIndex: 43825 entries, 0 to 43824\n",
            "Data columns (total 12 columns):\n",
            " #   Column      Non-Null Count  Dtype  \n",
            "---  ------      --------------  -----  \n",
            " 0   Timestamp   43825 non-null  object \n",
            " 1   Bid_Open    43825 non-null  float64\n",
            " 2   Bid_High    43825 non-null  float64\n",
            " 3   Bid_Low     43825 non-null  float64\n",
            " 4   Bid_Close   43825 non-null  float64\n",
            " 5   Bid_Volume  43825 non-null  float64\n",
            " 6   Ask_Open    43825 non-null  float64\n",
            " 7   Ask_High    43825 non-null  float64\n",
            " 8   Ask_Low     43825 non-null  float64\n",
            " 9   Ask_Close   43825 non-null  float64\n",
            " 10  Ask_Volume  43825 non-null  float64\n",
            " 11  Class       43825 non-null  bool   \n",
            "dtypes: bool(1), float64(10), object(1)\n",
            "memory usage: 3.7+ MB\n"
          ]
        }
      ]
    },
    {
      "cell_type": "markdown",
      "metadata": {
        "id": "wA4fyj7ZxRVx"
      },
      "source": [
        "From the above description, it is evident that there are no null values in any of the columns."
      ]
    },
    {
      "cell_type": "code",
      "metadata": {
        "colab": {
          "base_uri": "https://localhost:8080/",
          "height": 312
        },
        "id": "iNj8Ke9PxT4O",
        "outputId": "16329ba5-e27c-4d6b-88af-566eb0e771ce"
      },
      "source": [
        "df['Class'].value_counts().plot(kind='barh')\n",
        "plt.title('No of times bid price has risen vs fallen')\n",
        "plt.xlabel('Count rise/fall')\n",
        "plt.ylabel('Class')"
      ],
      "execution_count": 13,
      "outputs": [
        {
          "output_type": "execute_result",
          "data": {
            "text/plain": [
              "Text(0, 0.5, 'Class')"
            ]
          },
          "metadata": {},
          "execution_count": 13
        },
        {
          "output_type": "display_data",
          "data": {
            "image/png": "[encoded data removed]",
            "text/plain": [
              "<Figure size 432x288 with 1 Axes>"
            ]
          },
          "metadata": {
            "needs_background": "light"
          }
        }
      ]
    },
    {
      "cell_type": "markdown",
      "metadata": {
        "id": "ltDW4SJt9Whq"
      },
      "source": [
        "### There is no comparable difference between the counts of Trues and Falses.So, I think that should not be a problem for prediction especially for accuracy metric"
      ]
    },
    {
      "cell_type": "code",
      "metadata": {
        "id": "_E6nbDWVx9Gv"
      },
      "source": [
        "df['Class']=pd.get_dummies(df['Class'])"
      ],
      "execution_count": 15,
      "outputs": []
    },
    {
      "cell_type": "code",
      "metadata": {
        "colab": {
          "base_uri": "https://localhost:8080/",
          "height": 607
        },
        "id": "86palRue1EGN",
        "outputId": "14133792-8231-42b0-ed65-2fd6881b5ff9"
      },
      "source": [
        "df.hist(bins=30,figsize=[20,10])\n",
        "plt.show()[]"
      ],
      "execution_count": 35,
      "outputs": [
        {
          "output_type": "display_data",
          "data": {
            "image/png": "[encoded data removed]",
            "text/plain": [
              "<Figure size 1440x720 with 12 Axes>"
            ]
          },
          "metadata": {
            "needs_background": "light"
          }
        }
      ]
    },
    {
      "cell_type": "markdown",
      "metadata": {
        "id": "bgscdbZy8Q-5"
      },
      "source": [
        "### **From those plots, we can say that almost all columns are equally distributed, except for Bid_Volume and Ask_Volume since they are not bid values but number of times those values changed.**"
      ]
    },
    {
      "cell_type": "markdown",
      "metadata": {
        "id": "68mtRNXI81rL"
      },
      "source": [
        "### **Moving on further, I would like to extract monthly data from 'Timestamp' and even analyze and predict monthly changes in bid prices.**"
      ]
    }
  ]
}