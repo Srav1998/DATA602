{
  "nbformat": 4,
  "nbformat_minor": 0,
  "metadata": {
    "colab": {
      "name": "QI57017_602_Assignment5.ipynb",
      "provenance": []
    },
    "kernelspec": {
      "name": "python3",
      "display_name": "Python 3"
    },
    "language_info": {
      "name": "python"
    }
  },
  "cells": [
    {
      "cell_type": "markdown",
      "metadata": {
        "id": "l621g7lOWl-_"
      },
      "source": [
        "#**Regression Analysis on CRIME RATE AND POPULATION**"
      ]
    },
    {
      "cell_type": "markdown",
      "metadata": {
        "id": "Igxt_iH8XBFV"
      },
      "source": [
        "1. **STUDYNO**: ICPSR STUDY NUMBER\n",
        "2. **EDITION:**ICPSR EDITION NUMBER\n",
        "3.**PART**: ICPSR PART NUMBER-4\n",
        "4. **IDNO:** ICPSR SEQUENTIAL CASE ID NUMBER\n",
        "5. **FIPS_ST**: FIPS STATE CODE\n",
        "6. **FIPS_CTY:** FIPS COUNTY CODE\n",
        "7. **CPOPARST:** TOT CNTY POPULATION-AGENCIES RPRT ARRSTS\n",
        "8. **CPOPCRIM:** COUNTY POPULATION-AGENCIES REPORT CRIMES\n",
        "9. **AG_ARRST:** NMBR OF AGENCIES IN CNTY REPORT ARRESTS\n",
        "11. **AG_OFF:** NMBR OF AGENCIES IN COUNTY REPORT CRIMES\n",
        "12. **COVIND:** COVERAGE INDICATOR\n",
        "13.**VIOL:** TOTAL VIOLENT CRIMES\n",
        "14. **PROPERTY:** TOTAL PROPERTY CRIMES\n",
        "15. **MURDER:** MURDERS\n",
        "16. **RAPE:** RAPES \n",
        "17.**ROBBERY:** ROBBERIES\n",
        "18. **AGASSLT:** AGGRAVATED ASSAULTS\n",
        "19. **BURGLRY:** BURGLARIES\n",
        "20. **LARCENY:** LARCENIES\n",
        "21. **MVTHEFT:** MOTOR VEHICLE THEFTS \n",
        "22. **ARSON:** ARSONS\n",
        "23. **COUNTY_NAME** : Name of the county.\n",
        "24. **CRIME_RATE_PER_100000** : crime rate per 100000 of population."
      ]
    },
    {
      "cell_type": "code",
      "metadata": {
        "colab": {
          "base_uri": "https://localhost:8080/",
          "height": 419
        },
        "id": "11kja5i55REW",
        "outputId": "7f7f81f3-661a-480e-c3a2-3faa72d8a11e"
      },
      "source": [
        "import pandas as pd\n",
        "import numpy as np\n",
        "import matplotlib.pyplot as plt\n",
        "import statsmodels.api as sm\n",
        "%matplotlib inline\n",
        "import seaborn as sns\n",
        "df=pd.read_csv('/content/crime_data_w_population_and_crime_rate.csv')\n",
        "df"
      ],
      "execution_count": 1,
      "outputs": [
        {
          "output_type": "execute_result",
          "data": {
            "text/html": [
              "<div>\n",
              "<style scoped>\n",
              "    .dataframe tbody tr th:only-of-type {\n",
              "        vertical-align: middle;\n",
              "    }\n",
              "\n",
              "    .dataframe tbody tr th {\n",
              "        vertical-align: top;\n",
              "    }\n",
              "\n",
              "    .dataframe thead th {\n",
              "        text-align: right;\n",
              "    }\n",
              "</style>\n",
              "<table border=\"1\" class=\"dataframe\">\n",
              "  <thead>\n",
              "    <tr style=\"text-align: right;\">\n",
              "      <th></th>\n",
              "      <th>county_name</th>\n",
              "      <th>crime_rate_per_100000</th>\n",
              "      <th>index</th>\n",
              "      <th>EDITION</th>\n",
              "      <th>PART</th>\n",
              "      <th>IDNO</th>\n",
              "      <th>CPOPARST</th>\n",
              "      <th>CPOPCRIM</th>\n",
              "      <th>AG_ARRST</th>\n",
              "      <th>AG_OFF</th>\n",
              "      <th>COVIND</th>\n",
              "      <th>INDEX</th>\n",
              "      <th>MODINDX</th>\n",
              "      <th>MURDER</th>\n",
              "      <th>RAPE</th>\n",
              "      <th>ROBBERY</th>\n",
              "      <th>AGASSLT</th>\n",
              "      <th>BURGLRY</th>\n",
              "      <th>LARCENY</th>\n",
              "      <th>MVTHEFT</th>\n",
              "      <th>ARSON</th>\n",
              "      <th>population</th>\n",
              "      <th>FIPS_ST</th>\n",
              "      <th>FIPS_CTY</th>\n",
              "    </tr>\n",
              "  </thead>\n",
              "  <tbody>\n",
              "    <tr>\n",
              "      <th>0</th>\n",
              "      <td>St. Louis city, MO</td>\n",
              "      <td>1791.995377</td>\n",
              "      <td>1</td>\n",
              "      <td>1</td>\n",
              "      <td>4</td>\n",
              "      <td>1612</td>\n",
              "      <td>318667</td>\n",
              "      <td>318667</td>\n",
              "      <td>15</td>\n",
              "      <td>15</td>\n",
              "      <td>100.0</td>\n",
              "      <td>5706</td>\n",
              "      <td>22329</td>\n",
              "      <td>119</td>\n",
              "      <td>200</td>\n",
              "      <td>1778</td>\n",
              "      <td>3609</td>\n",
              "      <td>4995</td>\n",
              "      <td>13791</td>\n",
              "      <td>3543</td>\n",
              "      <td>464</td>\n",
              "      <td>318416</td>\n",
              "      <td>29</td>\n",
              "      <td>510</td>\n",
              "    </tr>\n",
              "    <tr>\n",
              "      <th>1</th>\n",
              "      <td>Crittenden County, AR</td>\n",
              "      <td>1754.914968</td>\n",
              "      <td>2</td>\n",
              "      <td>1</td>\n",
              "      <td>4</td>\n",
              "      <td>130</td>\n",
              "      <td>50717</td>\n",
              "      <td>50717</td>\n",
              "      <td>4</td>\n",
              "      <td>4</td>\n",
              "      <td>100.0</td>\n",
              "      <td>873</td>\n",
              "      <td>3424</td>\n",
              "      <td>8</td>\n",
              "      <td>38</td>\n",
              "      <td>165</td>\n",
              "      <td>662</td>\n",
              "      <td>1482</td>\n",
              "      <td>1753</td>\n",
              "      <td>189</td>\n",
              "      <td>28</td>\n",
              "      <td>49746</td>\n",
              "      <td>5</td>\n",
              "      <td>35</td>\n",
              "    </tr>\n",
              "    <tr>\n",
              "      <th>2</th>\n",
              "      <td>Alexander County, IL</td>\n",
              "      <td>1664.700485</td>\n",
              "      <td>3</td>\n",
              "      <td>1</td>\n",
              "      <td>4</td>\n",
              "      <td>604</td>\n",
              "      <td>8040</td>\n",
              "      <td>8040</td>\n",
              "      <td>2</td>\n",
              "      <td>2</td>\n",
              "      <td>100.0</td>\n",
              "      <td>127</td>\n",
              "      <td>278</td>\n",
              "      <td>1</td>\n",
              "      <td>2</td>\n",
              "      <td>5</td>\n",
              "      <td>119</td>\n",
              "      <td>82</td>\n",
              "      <td>184</td>\n",
              "      <td>12</td>\n",
              "      <td>2</td>\n",
              "      <td>7629</td>\n",
              "      <td>17</td>\n",
              "      <td>3</td>\n",
              "    </tr>\n",
              "    <tr>\n",
              "      <th>3</th>\n",
              "      <td>Kenedy County, TX</td>\n",
              "      <td>1456.310680</td>\n",
              "      <td>4</td>\n",
              "      <td>1</td>\n",
              "      <td>4</td>\n",
              "      <td>2681</td>\n",
              "      <td>444</td>\n",
              "      <td>444</td>\n",
              "      <td>1</td>\n",
              "      <td>1</td>\n",
              "      <td>100.0</td>\n",
              "      <td>6</td>\n",
              "      <td>13</td>\n",
              "      <td>0</td>\n",
              "      <td>3</td>\n",
              "      <td>1</td>\n",
              "      <td>2</td>\n",
              "      <td>5</td>\n",
              "      <td>4</td>\n",
              "      <td>4</td>\n",
              "      <td>0</td>\n",
              "      <td>412</td>\n",
              "      <td>48</td>\n",
              "      <td>261</td>\n",
              "    </tr>\n",
              "    <tr>\n",
              "      <th>4</th>\n",
              "      <td>De Soto Parish, LA</td>\n",
              "      <td>1447.402430</td>\n",
              "      <td>5</td>\n",
              "      <td>1</td>\n",
              "      <td>4</td>\n",
              "      <td>1137</td>\n",
              "      <td>26971</td>\n",
              "      <td>26971</td>\n",
              "      <td>3</td>\n",
              "      <td>3</td>\n",
              "      <td>100.0</td>\n",
              "      <td>392</td>\n",
              "      <td>703</td>\n",
              "      <td>3</td>\n",
              "      <td>4</td>\n",
              "      <td>17</td>\n",
              "      <td>368</td>\n",
              "      <td>149</td>\n",
              "      <td>494</td>\n",
              "      <td>60</td>\n",
              "      <td>0</td>\n",
              "      <td>27083</td>\n",
              "      <td>22</td>\n",
              "      <td>31</td>\n",
              "    </tr>\n",
              "    <tr>\n",
              "      <th>...</th>\n",
              "      <td>...</td>\n",
              "      <td>...</td>\n",
              "      <td>...</td>\n",
              "      <td>...</td>\n",
              "      <td>...</td>\n",
              "      <td>...</td>\n",
              "      <td>...</td>\n",
              "      <td>...</td>\n",
              "      <td>...</td>\n",
              "      <td>...</td>\n",
              "      <td>...</td>\n",
              "      <td>...</td>\n",
              "      <td>...</td>\n",
              "      <td>...</td>\n",
              "      <td>...</td>\n",
              "      <td>...</td>\n",
              "      <td>...</td>\n",
              "      <td>...</td>\n",
              "      <td>...</td>\n",
              "      <td>...</td>\n",
              "      <td>...</td>\n",
              "      <td>...</td>\n",
              "      <td>...</td>\n",
              "      <td>...</td>\n",
              "    </tr>\n",
              "    <tr>\n",
              "      <th>3131</th>\n",
              "      <td>Ohio County, IN</td>\n",
              "      <td>0.000000</td>\n",
              "      <td>3132</td>\n",
              "      <td>1</td>\n",
              "      <td>4</td>\n",
              "      <td>762</td>\n",
              "      <td>6084</td>\n",
              "      <td>0</td>\n",
              "      <td>2</td>\n",
              "      <td>1</td>\n",
              "      <td>100.0</td>\n",
              "      <td>0</td>\n",
              "      <td>5</td>\n",
              "      <td>0</td>\n",
              "      <td>0</td>\n",
              "      <td>0</td>\n",
              "      <td>0</td>\n",
              "      <td>2</td>\n",
              "      <td>2</td>\n",
              "      <td>0</td>\n",
              "      <td>0</td>\n",
              "      <td>5994</td>\n",
              "      <td>18</td>\n",
              "      <td>115</td>\n",
              "    </tr>\n",
              "    <tr>\n",
              "      <th>3132</th>\n",
              "      <td>Newton County, MS</td>\n",
              "      <td>0.000000</td>\n",
              "      <td>3133</td>\n",
              "      <td>1</td>\n",
              "      <td>4</td>\n",
              "      <td>1465</td>\n",
              "      <td>21545</td>\n",
              "      <td>3346</td>\n",
              "      <td>3</td>\n",
              "      <td>1</td>\n",
              "      <td>100.0</td>\n",
              "      <td>0</td>\n",
              "      <td>5</td>\n",
              "      <td>0</td>\n",
              "      <td>0</td>\n",
              "      <td>0</td>\n",
              "      <td>0</td>\n",
              "      <td>4</td>\n",
              "      <td>0</td>\n",
              "      <td>1</td>\n",
              "      <td>0</td>\n",
              "      <td>21689</td>\n",
              "      <td>28</td>\n",
              "      <td>101</td>\n",
              "    </tr>\n",
              "    <tr>\n",
              "      <th>3133</th>\n",
              "      <td>Jerauld County, SD</td>\n",
              "      <td>0.000000</td>\n",
              "      <td>3134</td>\n",
              "      <td>1</td>\n",
              "      <td>4</td>\n",
              "      <td>2424</td>\n",
              "      <td>2108</td>\n",
              "      <td>2108</td>\n",
              "      <td>1</td>\n",
              "      <td>1</td>\n",
              "      <td>100.0</td>\n",
              "      <td>0</td>\n",
              "      <td>5</td>\n",
              "      <td>0</td>\n",
              "      <td>0</td>\n",
              "      <td>0</td>\n",
              "      <td>0</td>\n",
              "      <td>1</td>\n",
              "      <td>3</td>\n",
              "      <td>1</td>\n",
              "      <td>0</td>\n",
              "      <td>2066</td>\n",
              "      <td>46</td>\n",
              "      <td>73</td>\n",
              "    </tr>\n",
              "    <tr>\n",
              "      <th>3134</th>\n",
              "      <td>Cimarron County, OK</td>\n",
              "      <td>0.000000</td>\n",
              "      <td>3135</td>\n",
              "      <td>1</td>\n",
              "      <td>4</td>\n",
              "      <td>2167</td>\n",
              "      <td>2502</td>\n",
              "      <td>2502</td>\n",
              "      <td>2</td>\n",
              "      <td>2</td>\n",
              "      <td>100.0</td>\n",
              "      <td>0</td>\n",
              "      <td>3</td>\n",
              "      <td>0</td>\n",
              "      <td>0</td>\n",
              "      <td>0</td>\n",
              "      <td>0</td>\n",
              "      <td>1</td>\n",
              "      <td>2</td>\n",
              "      <td>0</td>\n",
              "      <td>0</td>\n",
              "      <td>2335</td>\n",
              "      <td>40</td>\n",
              "      <td>25</td>\n",
              "    </tr>\n",
              "    <tr>\n",
              "      <th>3135</th>\n",
              "      <td>Lawrence County, MS</td>\n",
              "      <td>0.000000</td>\n",
              "      <td>3136</td>\n",
              "      <td>1</td>\n",
              "      <td>4</td>\n",
              "      <td>1453</td>\n",
              "      <td>12714</td>\n",
              "      <td>0</td>\n",
              "      <td>1</td>\n",
              "      <td>1</td>\n",
              "      <td>100.0</td>\n",
              "      <td>0</td>\n",
              "      <td>0</td>\n",
              "      <td>0</td>\n",
              "      <td>0</td>\n",
              "      <td>0</td>\n",
              "      <td>0</td>\n",
              "      <td>0</td>\n",
              "      <td>0</td>\n",
              "      <td>0</td>\n",
              "      <td>0</td>\n",
              "      <td>12514</td>\n",
              "      <td>28</td>\n",
              "      <td>77</td>\n",
              "    </tr>\n",
              "  </tbody>\n",
              "</table>\n",
              "<p>3136 rows × 24 columns</p>\n",
              "</div>"
            ],
            "text/plain": [
              "                county_name  crime_rate_per_100000  ...  FIPS_ST  FIPS_CTY\n",
              "0        St. Louis city, MO            1791.995377  ...       29       510\n",
              "1     Crittenden County, AR            1754.914968  ...        5        35\n",
              "2      Alexander County, IL            1664.700485  ...       17         3\n",
              "3         Kenedy County, TX            1456.310680  ...       48       261\n",
              "4        De Soto Parish, LA            1447.402430  ...       22        31\n",
              "...                     ...                    ...  ...      ...       ...\n",
              "3131        Ohio County, IN               0.000000  ...       18       115\n",
              "3132      Newton County, MS               0.000000  ...       28       101\n",
              "3133     Jerauld County, SD               0.000000  ...       46        73\n",
              "3134    Cimarron County, OK               0.000000  ...       40        25\n",
              "3135    Lawrence County, MS               0.000000  ...       28        77\n",
              "\n",
              "[3136 rows x 24 columns]"
            ]
          },
          "metadata": {},
          "execution_count": 1
        }
      ]
    },
    {
      "cell_type": "markdown",
      "metadata": {
        "id": "XuzHD-FpamO_"
      },
      "source": [
        "## I do not need the \"'county_name','index', 'EDITION', 'PART','IDNO', 'CPOPARST', 'CPOPCRIM' 'AG_ARRST', 'AG_OFF', 'COVIND', 'INDEX','MODINDX','FIPS_ST','FIPS_CTY' \" columns since they are not helpful for regression.So I dropped these columns."
      ]
    },
    {
      "cell_type": "code",
      "metadata": {
        "id": "FW_X2urj53gF"
      },
      "source": [
        "df.drop(columns=['index', 'EDITION', 'PART',\n",
        "       'IDNO', 'CPOPARST', 'CPOPCRIM', 'AG_ARRST', 'AG_OFF', 'COVIND', 'INDEX',\n",
        "       'MODINDX','FIPS_ST','FIPS_CTY'],inplace=True)"
      ],
      "execution_count": 2,
      "outputs": []
    },
    {
      "cell_type": "code",
      "metadata": {
        "id": "7bew1Nun2gXi"
      },
      "source": [
        "df.drop(columns=['county_name'],inplace=True)"
      ],
      "execution_count": 3,
      "outputs": []
    },
    {
      "cell_type": "code",
      "metadata": {
        "id": "ndopjQ8uHpPW"
      },
      "source": [
        "df.to_csv('cleanedupdata.csv',index=False)"
      ],
      "execution_count": 42,
      "outputs": []
    },
    {
      "cell_type": "code",
      "metadata": {
        "colab": {
          "base_uri": "https://localhost:8080/",
          "height": 620
        },
        "id": "YHmuuJHF3A1D",
        "outputId": "ec4c6e09-228c-42cf-d539-1c167a4832ae"
      },
      "source": [
        "plt.rcParams[\"figure.figsize\"] = (10,10)\n",
        "df.hist(bins=30)\n",
        "plt.show()"
      ],
      "execution_count": 5,
      "outputs": [
        {
          "output_type": "display_data",
          "data": {
            "image/png": "[encoded data removed]",
            "text/plain": [
              "<Figure size 720x720 with 12 Axes>"
            ]
          },
          "metadata": {
            "needs_background": "light"
          }
        }
      ]
    },
    {
      "cell_type": "markdown",
      "metadata": {
        "id": "uYD5GCb_bIRl"
      },
      "source": [
        "## This histogram shows that all the variables follow a similar trend except crime rate which has an exponentially decreasing pattern."
      ]
    },
    {
      "cell_type": "code",
      "metadata": {
        "id": "zmtkeDhg4VLO"
      },
      "source": [
        "df[\"const\"] = 1"
      ],
      "execution_count": 6,
      "outputs": []
    },
    {
      "cell_type": "markdown",
      "metadata": {
        "id": "iN3vZm7bbef2"
      },
      "source": [
        "# Adding a constant column to df for linear regression.\n",
        "Ref: https://github.com/appliedecon/data602-lectures/blob/main/week04/linear-regression-introduction.ipynb"
      ]
    },
    {
      "cell_type": "code",
      "metadata": {
        "colab": {
          "base_uri": "https://localhost:8080/"
        },
        "id": "LJD0I73p9iiI",
        "outputId": "42b62bfd-9fab-4b1a-b980-27da1250a6e0"
      },
      "source": [
        "import statsmodels.api as smf\n",
        "statsModelsCoefs = smf.OLS(df['population'], df[['crime_rate_per_100000', 'MURDER', 'RAPE', 'ROBBERY','AGASSLT', 'BURGLRY', 'LARCENY', 'MVTHEFT', 'ARSON','const']].astype(float)).fit()\n",
        "print(statsModelsCoefs.summary())"
      ],
      "execution_count": 7,
      "outputs": [
        {
          "output_type": "stream",
          "name": "stderr",
          "text": [
            "/usr/local/lib/python3.7/dist-packages/statsmodels/tools/_testing.py:19: FutureWarning: pandas.util.testing is deprecated. Use the functions in the public API at pandas.testing instead.\n",
            "  import pandas.util.testing as tm\n"
          ]
        },
        {
          "output_type": "stream",
          "name": "stdout",
          "text": [
            "                            OLS Regression Results                            \n",
            "==============================================================================\n",
            "Dep. Variable:             population   R-squared:                       0.936\n",
            "Model:                            OLS   Adj. R-squared:                  0.936\n",
            "Method:                 Least Squares   F-statistic:                     5070.\n",
            "Date:                Tue, 12 Oct 2021   Prob (F-statistic):               0.00\n",
            "Time:                        02:30:37   Log-Likelihood:                -39920.\n",
            "No. Observations:                3136   AIC:                         7.986e+04\n",
            "Df Residuals:                    3126   BIC:                         7.992e+04\n",
            "Df Model:                           9                                         \n",
            "Covariance Type:            nonrobust                                         \n",
            "=========================================================================================\n",
            "                            coef    std err          t      P>|t|      [0.025      0.975]\n",
            "-----------------------------------------------------------------------------------------\n",
            "crime_rate_per_100000  -100.3201      8.263    -12.141      0.000    -116.521     -84.119\n",
            "MURDER                -2698.7478    202.224    -13.345      0.000   -3095.253   -2302.242\n",
            "RAPE                    501.0264     52.894      9.472      0.000     397.315     604.738\n",
            "ROBBERY                  66.4003      9.134      7.270      0.000      48.492      84.309\n",
            "AGASSLT                  82.1403      6.399     12.836      0.000      69.593      94.688\n",
            "BURGLRY                 -56.2442      3.094    -18.180      0.000     -62.310     -50.178\n",
            "LARCENY                  34.9502      0.991     35.266      0.000      33.007      36.893\n",
            "MVTHEFT                  63.3779      3.770     16.809      0.000      55.985      70.771\n",
            "ARSON                   750.7464     54.698     13.725      0.000     643.499     857.993\n",
            "const                  3.963e+04   2326.803     17.031      0.000    3.51e+04    4.42e+04\n",
            "==============================================================================\n",
            "Omnibus:                     1121.999   Durbin-Watson:                   1.930\n",
            "Prob(Omnibus):                  0.000   Jarque-Bera (JB):           448406.964\n",
            "Skew:                          -0.173   Prob(JB):                         0.00\n",
            "Kurtosis:                      61.580   Cond. No.                     1.16e+04\n",
            "==============================================================================\n",
            "\n",
            "Warnings:\n",
            "[1] Standard Errors assume that the covariance matrix of the errors is correctly specified.\n",
            "[2] The condition number is large, 1.16e+04. This might indicate that there are\n",
            "strong multicollinearity or other numerical problems.\n"
          ]
        }
      ]
    },
    {
      "cell_type": "markdown",
      "metadata": {
        "id": "p0APTfhDbyWs"
      },
      "source": [
        "r2 is 0.936 i.e. this model describes almost 94% of the data.Also, the t-static values for each column are acceptable."
      ]
    },
    {
      "cell_type": "code",
      "metadata": {
        "id": "cfBpOKG57KjK",
        "colab": {
          "base_uri": "https://localhost:8080/",
          "height": 621
        },
        "outputId": "58b34ea7-4f54-4ed6-e892-5e64eab7aece"
      },
      "source": [
        "yhat = statsModelsCoefs.predict(df[['crime_rate_per_100000', 'MURDER', 'RAPE', 'ROBBERY','AGASSLT', 'BURGLRY', 'LARCENY', 'MVTHEFT', 'ARSON','const']].astype(float))\n",
        "resid_boston = df['population'] - yhat\n",
        "plt.plot(yhat, resid_boston, 'bo')\n",
        "plt.title('Predicted vs Residuals')\n",
        "plt.xlabel('Predicted')\n",
        "plt.ylabel('Residuals')\n",
        "plt.show()\n",
        "\n"
      ],
      "execution_count": 36,
      "outputs": [
        {
          "output_type": "display_data",
          "data": {
            "image/png": "[encoded data removed]",
            "text/plain": [
              "<Figure size 720x720 with 1 Axes>"
            ]
          },
          "metadata": {
            "needs_background": "light"
          }
        }
      ]
    },
    {
      "cell_type": "markdown",
      "metadata": {
        "id": "UyQLYXV3nElT"
      },
      "source": [
        ""
      ]
    },
    {
      "cell_type": "code",
      "metadata": {
        "colab": {
          "base_uri": "https://localhost:8080/"
        },
        "id": "IYvubTJIfbkF",
        "outputId": "4291a286-8edf-4bf7-ac62-755e6648123d"
      },
      "source": [
        "df['population']"
      ],
      "execution_count": 37,
      "outputs": [
        {
          "output_type": "execute_result",
          "data": {
            "text/plain": [
              "0       318416\n",
              "1        49746\n",
              "2         7629\n",
              "3          412\n",
              "4        27083\n",
              "         ...  \n",
              "3131      5994\n",
              "3132     21689\n",
              "3133      2066\n",
              "3134      2335\n",
              "3135     12514\n",
              "Name: population, Length: 3136, dtype: int64"
            ]
          },
          "metadata": {},
          "execution_count": 37
        }
      ]
    },
    {
      "cell_type": "code",
      "metadata": {
        "colab": {
          "base_uri": "https://localhost:8080/"
        },
        "id": "LRX6_r4Hff4R",
        "outputId": "4ef38ed2-08cf-4247-a213-2e747cde60b9"
      },
      "source": [
        "yhat"
      ],
      "execution_count": 38,
      "outputs": [
        {
          "output_type": "execute_result",
          "data": {
            "text/plain": [
              "0       827366.463823\n",
              "1       -62729.812214\n",
              "2      -114883.777069\n",
              "3      -104623.088924\n",
              "4       -67623.277558\n",
              "            ...      \n",
              "3131     39585.671146\n",
              "3132     39466.660256\n",
              "3133     39740.243407\n",
              "3134     39641.915309\n",
              "3135     39628.259030\n",
              "Length: 3136, dtype: float64"
            ]
          },
          "metadata": {},
          "execution_count": 38
        }
      ]
    },
    {
      "cell_type": "code",
      "metadata": {
        "id": "nHoFrNRI3mLt",
        "colab": {
          "base_uri": "https://localhost:8080/",
          "height": 621
        },
        "outputId": "95e45f32-4d10-4e74-bb9e-ed784e750566"
      },
      "source": [
        "plt.scatter(df['population'], yhat)\n",
        "plt.xlabel('Actual')\n",
        "plt.ylabel('Predicted')\n",
        "plt.title('Actual vs. Predicted')\n",
        "plt.show()\n",
        "\n",
        "#As f"
      ],
      "execution_count": 41,
      "outputs": [
        {
          "output_type": "display_data",
          "data": {
            "image/png": "[encoded data removed]",
            "text/plain": [
              "<Figure size 720x720 with 1 Axes>"
            ]
          },
          "metadata": {
            "needs_background": "light"
          }
        }
      ]
    },
    {
      "cell_type": "code",
      "metadata": {
        "colab": {
          "base_uri": "https://localhost:8080/",
          "height": 621
        },
        "id": "9JtAS01tCj8a",
        "outputId": "fb462de2-7e9d-49c3-ce45-2827fdc15034"
      },
      "source": [
        "plt.hist(resid_boston,bins=100)\n",
        "plt.title('Residual Distribution')\n",
        "plt.show()"
      ],
      "execution_count": 11,
      "outputs": [
        {
          "output_type": "display_data",
          "data": {
            "image/png": "[encoded data removed]",
            "text/plain": [
              "<Figure size 720x720 with 1 Axes>"
            ]
          },
          "metadata": {
            "needs_background": "light"
          }
        }
      ]
    },
    {
      "cell_type": "markdown",
      "metadata": {
        "id": "B5SShS7mnI2o"
      },
      "source": [
        "## **As we can see that most of the concentration is around 0 and from the residual of y to y^ we can tell that difference between them is almost equal to 0 or near to that which defines our prediction to be good**"
      ]
    },
    {
      "cell_type": "code",
      "metadata": {
        "id": "LFJUnZX3DwyF"
      },
      "source": [
        "y=df['population']\n",
        "X = df[['crime_rate_per_100000', 'MURDER', 'RAPE', 'ROBBERY','AGASSLT', 'BURGLRY', 'LARCENY', 'MVTHEFT', 'ARSON','const']].astype(float)"
      ],
      "execution_count": 12,
      "outputs": []
    },
    {
      "cell_type": "code",
      "metadata": {
        "colab": {
          "base_uri": "https://localhost:8080/"
        },
        "id": "cMkJf4y0D1AN",
        "outputId": "2113b1fd-842d-42dd-f3b5-9400e5cf2e3e"
      },
      "source": [
        "from sklearn.model_selection import train_test_split\n",
        "X_training, X_test, y_training, y_test = train_test_split(X, y, test_size=0.20,random_state = 50)\n",
        "print(f'Training samples: {X_training.shape[0]:,}')\n",
        "print(f'Test samples: {X_test.shape[0]:,}')"
      ],
      "execution_count": 13,
      "outputs": [
        {
          "output_type": "stream",
          "name": "stdout",
          "text": [
            "Training samples: 2,508\n",
            "Test samples: 628\n"
          ]
        }
      ]
    },
    {
      "cell_type": "code",
      "metadata": {
        "colab": {
          "base_uri": "https://localhost:8080/"
        },
        "id": "KS-ycutiEsSW",
        "outputId": "76a965f8-7bf6-4e6f-cfd4-d08e9211fc69"
      },
      "source": [
        "statsModelsCoefs_1= smf.OLS(y_test, X_test[['crime_rate_per_100000', 'MURDER', 'RAPE', 'ROBBERY','AGASSLT','BURGLRY','LARCENY','MVTHEFT','ARSON','const']].astype(float)).fit()\n",
        "print(statsModelsCoefs_1.summary())\n",
        "\n",
        " "
      ],
      "execution_count": 14,
      "outputs": [
        {
          "output_type": "stream",
          "name": "stdout",
          "text": [
            "                            OLS Regression Results                            \n",
            "==============================================================================\n",
            "Dep. Variable:             population   R-squared:                       0.915\n",
            "Model:                            OLS   Adj. R-squared:                  0.914\n",
            "Method:                 Least Squares   F-statistic:                     741.6\n",
            "Date:                Tue, 12 Oct 2021   Prob (F-statistic):               0.00\n",
            "Time:                        02:31:29   Log-Likelihood:                -7842.3\n",
            "No. Observations:                 628   AIC:                         1.570e+04\n",
            "Df Residuals:                     618   BIC:                         1.575e+04\n",
            "Df Model:                           9                                         \n",
            "Covariance Type:            nonrobust                                         \n",
            "=========================================================================================\n",
            "                            coef    std err          t      P>|t|      [0.025      0.975]\n",
            "-----------------------------------------------------------------------------------------\n",
            "crime_rate_per_100000  -103.1911     14.719     -7.011      0.000    -132.096     -74.287\n",
            "MURDER                 -905.1786    638.421     -1.418      0.157   -2158.916     348.558\n",
            "RAPE                    841.7109    111.840      7.526      0.000     622.078    1061.344\n",
            "ROBBERY                 -76.9357     23.706     -3.245      0.001    -123.490     -30.381\n",
            "AGASSLT                 -27.6257     14.447     -1.912      0.056     -55.996       0.745\n",
            "BURGLRY                 -21.1712      7.466     -2.836      0.005     -35.833      -6.510\n",
            "LARCENY                  59.7249      2.307     25.888      0.000      55.194      64.256\n",
            "MVTHEFT                 -20.1583     11.029     -1.828      0.068     -41.817       1.500\n",
            "ARSON                   199.6993    150.131      1.330      0.184     -95.130     494.528\n",
            "const                  2.135e+04   4173.217      5.115      0.000    1.32e+04    2.95e+04\n",
            "==============================================================================\n",
            "Omnibus:                      252.286   Durbin-Watson:                   2.058\n",
            "Prob(Omnibus):                  0.000   Jarque-Bera (JB):            16882.416\n",
            "Skew:                           0.899   Prob(JB):                         0.00\n",
            "Kurtosis:                      28.337   Cond. No.                     8.29e+03\n",
            "==============================================================================\n",
            "\n",
            "Warnings:\n",
            "[1] Standard Errors assume that the covariance matrix of the errors is correctly specified.\n",
            "[2] The condition number is large, 8.29e+03. This might indicate that there are\n",
            "strong multicollinearity or other numerical problems.\n"
          ]
        }
      ]
    },
    {
      "cell_type": "markdown",
      "metadata": {
        "id": "rCu-xZBfmfjg"
      },
      "source": [
        "#**As discussed from the residual the difference between the Y and Y^ tends almost to be zero and it is evident from the summary of the test data. The R-square value of the test_data is 91% and the R-square value of the train_data is 93%.  This shows the model is neither over fitted nor under fitted but even after the data preprocessed we can see some of the outlier crawling over the graph.**"
      ]
    },
    {
      "cell_type": "code",
      "metadata": {
        "id": "Es1I-XZL-niN"
      },
      "source": [
        "from sklearn.pipeline import Pipeline\n",
        "from sklearn.compose import ColumnTransformer\n",
        "from sklearn.preprocessing import StandardScaler\n",
        "from sklearn.preprocessing import PolynomialFeatures\n",
        "\n",
        "polys = []\n",
        "non_polys = ['crime_rate_per_100000','MURDER', 'RAPE', 'ROBBERY','AGASSLT', 'BURGLRY', 'LARCENY', 'MVTHEFT', 'ARSON']\n",
        "\n",
        "poly_pipeline = Pipeline([('add_polynomials', PolynomialFeatures(3, include_bias=False)),\n",
        "                           ('standardize_poly', StandardScaler())\n",
        "                        ])\n",
        "\n",
        "processing_pipeline = ColumnTransformer(transformers=[('poly_processing', poly_pipeline, polys),\n",
        "                                ('nonpoly_scaling', StandardScaler(), non_polys)\n",
        "                               ])"
      ],
      "execution_count": 15,
      "outputs": []
    },
    {
      "cell_type": "code",
      "metadata": {
        "colab": {
          "base_uri": "https://localhost:8080/"
        },
        "id": "HFy-G2UpLd0z",
        "outputId": "18ae51d6-9616-432c-f8f2-18c9b8586e61"
      },
      "source": [
        "from sklearn.linear_model import LinearRegression\n",
        "modeling_pipeline = Pipeline([('data_processing', processing_pipeline), ('lm', LinearRegression())])\n",
        "modeling_pipeline.fit(X_training, y_training)"
      ],
      "execution_count": 16,
      "outputs": [
        {
          "output_type": "execute_result",
          "data": {
            "text/plain": [
              "Pipeline(memory=None,\n",
              "         steps=[('data_processing',\n",
              "                 ColumnTransformer(n_jobs=None, remainder='drop',\n",
              "                                   sparse_threshold=0.3,\n",
              "                                   transformer_weights=None,\n",
              "                                   transformers=[('poly_processing',\n",
              "                                                  Pipeline(memory=None,\n",
              "                                                           steps=[('add_polynomials',\n",
              "                                                                   PolynomialFeatures(degree=3,\n",
              "                                                                                      include_bias=False,\n",
              "                                                                                      interaction_only=False,\n",
              "                                                                                      order='C')),\n",
              "                                                                  ('standardize_poly',\n",
              "                                                                   StandardScaler(copy=True,\n",
              "                                                                                  with_mean=True,\n",
              "                                                                                  with_std=True))],\n",
              "                                                           verbose=False),\n",
              "                                                  []),\n",
              "                                                 ('nonpoly_scaling',\n",
              "                                                  StandardScaler(copy=True,\n",
              "                                                                 with_mean=True,\n",
              "                                                                 with_std=True),\n",
              "                                                  ['crime_rate_per_100000',\n",
              "                                                   'MURDER', 'RAPE', 'ROBBERY',\n",
              "                                                   'AGASSLT', 'BURGLRY',\n",
              "                                                   'LARCENY', 'MVTHEFT',\n",
              "                                                   'ARSON'])],\n",
              "                                   verbose=False)),\n",
              "                ('lm',\n",
              "                 LinearRegression(copy_X=True, fit_intercept=True, n_jobs=None,\n",
              "                                  normalize=False))],\n",
              "         verbose=False)"
            ]
          },
          "metadata": {},
          "execution_count": 16
        }
      ]
    },
    {
      "cell_type": "code",
      "metadata": {
        "colab": {
          "base_uri": "https://localhost:8080/"
        },
        "id": "lVw9zhWLLk5H",
        "outputId": "1fb9f0f6-d3f7-4201-a036-312c57b71317"
      },
      "source": [
        "modeling_pipeline['lm'].coef_"
      ],
      "execution_count": 17,
      "outputs": [
        {
          "output_type": "execute_result",
          "data": {
            "text/plain": [
              "array([ -17689.28040394,  -60376.61141765,   56286.24344393,\n",
              "         77673.22576485,   66843.19913761, -128230.93337995,\n",
              "        210789.22306028,   89309.53400696,   36322.5947642 ])"
            ]
          },
          "metadata": {},
          "execution_count": 17
        }
      ]
    },
    {
      "cell_type": "code",
      "metadata": {
        "colab": {
          "base_uri": "https://localhost:8080/"
        },
        "id": "w00RHk4xLpJ0",
        "outputId": "cef7be63-6b48-417b-dae2-c8714bb6843a"
      },
      "source": [
        "modeling_pipeline.score(X_training, y_training)"
      ],
      "execution_count": 18,
      "outputs": [
        {
          "output_type": "execute_result",
          "data": {
            "text/plain": [
              "0.9444038930893155"
            ]
          },
          "metadata": {},
          "execution_count": 18
        }
      ]
    },
    {
      "cell_type": "code",
      "metadata": {
        "colab": {
          "base_uri": "https://localhost:8080/"
        },
        "id": "r3xmI9kaLsV7",
        "outputId": "d40c72cf-dde6-4d32-8f11-11ff7629836c"
      },
      "source": [
        "modeling_pipeline.score(X_test, y_test)"
      ],
      "execution_count": 19,
      "outputs": [
        {
          "output_type": "execute_result",
          "data": {
            "text/plain": [
              "0.8345014055010702"
            ]
          },
          "metadata": {},
          "execution_count": 19
        }
      ]
    },
    {
      "cell_type": "code",
      "metadata": {
        "colab": {
          "base_uri": "https://localhost:8080/",
          "height": 621
        },
        "id": "jQfvEX5lLwVe",
        "outputId": "e8e08211-df97-450f-c41f-33a5ebfc7b24"
      },
      "source": [
        "yhat_test = modeling_pipeline.predict(X_test)\n",
        "plt.plot(y_test, yhat_test, 'bo', alpha=0.5)\n",
        "plt.xlabel('Actual')\n",
        "plt.ylabel('Predicted')\n",
        "plt.title('Actuals vs. Predictions')\n",
        "plt.show()"
      ],
      "execution_count": 20,
      "outputs": [
        {
          "output_type": "display_data",
          "data": {
            "image/png": "[encoded data removed]",
            "text/plain": [
              "<Figure size 720x720 with 1 Axes>"
            ]
          },
          "metadata": {
            "needs_background": "light"
          }
        }
      ]
    },
    {
      "cell_type": "code",
      "metadata": {
        "colab": {
          "base_uri": "https://localhost:8080/"
        },
        "id": "Ghko_uZOGWrX",
        "outputId": "255790aa-e99f-48f6-d803-d1b1dcea9977"
      },
      "source": [
        "from sklearn.linear_model import Ridge\n",
        "\n",
        "modeling_pipeline_ridge = Pipeline([('data_processing', processing_pipeline), ('ridge', Ridge(alpha=0))])\n",
        "modeling_pipeline_ridge.fit(X_training, y_training)\n",
        "modeling_pipeline_ridge['ridge'].coef_"
      ],
      "execution_count": 21,
      "outputs": [
        {
          "output_type": "execute_result",
          "data": {
            "text/plain": [
              "array([ -17689.28040394,  -60376.61141765,   56286.24344393,\n",
              "         77673.22576484,   66843.19913762, -128230.93337995,\n",
              "        210789.22306028,   89309.53400696,   36322.5947642 ])"
            ]
          },
          "metadata": {},
          "execution_count": 21
        }
      ]
    },
    {
      "cell_type": "code",
      "metadata": {
        "colab": {
          "base_uri": "https://localhost:8080/"
        },
        "id": "8ymFpDUaMM0e",
        "outputId": "ee4e6250-9317-4293-b9ee-8b48cdf074b6"
      },
      "source": [
        "modeling_pipeline['lm'].coef_"
      ],
      "execution_count": 22,
      "outputs": [
        {
          "output_type": "execute_result",
          "data": {
            "text/plain": [
              "array([ -17689.28040394,  -60376.61141765,   56286.24344393,\n",
              "         77673.22576485,   66843.19913761, -128230.93337995,\n",
              "        210789.22306028,   89309.53400696,   36322.5947642 ])"
            ]
          },
          "metadata": {},
          "execution_count": 22
        }
      ]
    },
    {
      "cell_type": "markdown",
      "metadata": {
        "id": "O27HSsArnQac"
      },
      "source": [
        ""
      ]
    },
    {
      "cell_type": "code",
      "metadata": {
        "id": "e7GS_bs3MRsJ"
      },
      "source": [
        "from collections import defaultdict\n",
        "alphas = [0,1,4,8,10]\n",
        "ridge_results = defaultdict(dict)\n",
        "for alph in alphas:\n",
        "    modeling_pipeline_ridge = Pipeline([('data_processing', processing_pipeline), ('ridge', Ridge(alpha=alph))])\n",
        "    modeling_pipeline_ridge.fit(X_training, y_training)\n",
        "    ridge_results['coefficients'][alph] = modeling_pipeline_ridge['ridge'].coef_\n",
        "    ridge_results['training score'][alph] = modeling_pipeline_ridge.score(X_training, y_training)\n",
        "    ridge_results['test score'][alph] = modeling_pipeline_ridge.score(X_test, y_test)"
      ],
      "execution_count": 23,
      "outputs": []
    },
    {
      "cell_type": "code",
      "metadata": {
        "colab": {
          "base_uri": "https://localhost:8080/",
          "height": 513
        },
        "id": "pWehWaNgMT7y",
        "outputId": "a22aebc2-14bf-418d-977f-86aafb4073de"
      },
      "source": [
        "coefficients = pd.DataFrame.from_dict(ridge_results['coefficients'])\n",
        "coefficients = (coefficients/100000).reset_index()\n",
        "coefficients = coefficients.rename(columns={'index':'coefficient_nbr'})\n",
        "coefficients = coefficients.melt(id_vars='coefficient_nbr', var_name='alpha', value_name='coefficient')\n",
        "\n",
        "(\n",
        "coefficients.pivot_table(index='alpha', columns='coefficient_nbr', values='coefficient')\n",
        "    .plot(figsize=(10,8),legend=False)\n",
        ")\n",
        "\n",
        "plt.title('Ridge Coefficients', loc='left')\n",
        "plt.xlabel('Alpha (Regularization Amount)')\n",
        "plt.ylabel('Coefficient/100000')\n",
        "plt.ylim(-10,10)\n",
        "plt.show()"
      ],
      "execution_count": 24,
      "outputs": [
        {
          "output_type": "display_data",
          "data": {
            "image/png": "[encoded data removed]",
            "text/plain": [
              "<Figure size 720x576 with 1 Axes>"
            ]
          },
          "metadata": {
            "needs_background": "light"
          }
        }
      ]
    },
    {
      "cell_type": "code",
      "metadata": {
        "colab": {
          "base_uri": "https://localhost:8080/",
          "height": 625
        },
        "id": "jixpSQLxMWXp",
        "outputId": "6ebc69d5-d106-4004-ded4-e701b48b65a0"
      },
      "source": [
        "ridge_training_r2 = pd.Series(ridge_results['training score'])\n",
        "ridge_test_r2 = pd.Series(ridge_results['test score'])\n",
        "ridge_training_r2.plot()\n",
        "ridge_test_r2.plot()\n",
        "plt.title('$R^2$ for Ridge Regression')\n",
        "plt.legend(['Training','Test'])\n",
        "plt.xlabel('Alpha (Regularization Level)')\n",
        "plt.ylabel('Percent of Variance Explained')\n",
        "plt.show()"
      ],
      "execution_count": 25,
      "outputs": [
        {
          "output_type": "display_data",
          "data": {
            "image/png": "[encoded data removed]",
            "text/plain": [
              "<Figure size 720x720 with 1 Axes>"
            ]
          },
          "metadata": {
            "needs_background": "light"
          }
        }
      ]
    },
    {
      "cell_type": "code",
      "metadata": {
        "colab": {
          "base_uri": "https://localhost:8080/"
        },
        "id": "MncqTnorM3z0",
        "outputId": "461b40cc-ea59-4597-c7e4-2484734d5ff5"
      },
      "source": [
        "from sklearn.linear_model import Lasso\n",
        "from collections import defaultdict\n",
        "alphas = [0,1,4,8,10]\n",
        "lasso_results = defaultdict(dict)\n",
        "for alph in alphas:\n",
        "    modeling_pipeline_lasso = Pipeline([('data_processing', processing_pipeline), ('lasso', Lasso(alpha=alph))])\n",
        "    modeling_pipeline_lasso.fit(X_training, y_training)\n",
        "    lasso_results['coefficients'][alph] = modeling_pipeline_lasso['lasso'].coef_\n",
        "    lasso_results['training score'][alph] = modeling_pipeline_lasso.score(X_training, y_training)\n",
        "    lasso_results['test score'][alph] = modeling_pipeline_lasso.score(X_test, y_test)"
      ],
      "execution_count": 26,
      "outputs": [
        {
          "output_type": "stream",
          "name": "stderr",
          "text": [
            "/usr/local/lib/python3.7/dist-packages/sklearn/pipeline.py:354: UserWarning: With alpha=0, this algorithm does not converge well. You are advised to use the LinearRegression estimator\n",
            "  self._final_estimator.fit(Xt, y, **fit_params)\n",
            "/usr/local/lib/python3.7/dist-packages/sklearn/linear_model/_coordinate_descent.py:476: UserWarning: Coordinate descent with no regularization may lead to unexpected results and is discouraged.\n",
            "  positive)\n",
            "/usr/local/lib/python3.7/dist-packages/sklearn/linear_model/_coordinate_descent.py:476: ConvergenceWarning: Objective did not converge. You might want to increase the number of iterations. Duality gap: 8222766773064.3955, tolerance: 29580368950.201313\n",
            "  positive)\n"
          ]
        }
      ]
    },
    {
      "cell_type": "code",
      "metadata": {
        "colab": {
          "base_uri": "https://localhost:8080/",
          "height": 295
        },
        "id": "qXJxYe7LM96N",
        "outputId": "ac78b75b-9414-4a29-c03f-a3f9590edbe8"
      },
      "source": [
        "coefficients = pd.DataFrame.from_dict(lasso_results['coefficients'])\n",
        "coefficients = (coefficients/100000).reset_index()\n",
        "coefficients = coefficients.rename(columns={'index':'coefficient_nbr'})\n",
        "coefficients = coefficients.melt(id_vars='coefficient_nbr', var_name='alpha', value_name='coefficient')\n",
        "coefficients.pivot_table(index='alpha', columns='coefficient_nbr', values='coefficient').plot(figsize=(8,4))\n",
        "plt.title('Lasso Coefficients', loc='left')\n",
        "plt.xlabel('Alpha (Regularization Amount)')\n",
        "plt.ylabel('Coefficient/100000')\n",
        "plt.show()"
      ],
      "execution_count": 27,
      "outputs": [
        {
          "output_type": "display_data",
          "data": {
            "image/png": "[encoded data removed]",
            "text/plain": [
              "<Figure size 576x288 with 1 Axes>"
            ]
          },
          "metadata": {
            "needs_background": "light"
          }
        }
      ]
    },
    {
      "cell_type": "code",
      "metadata": {
        "colab": {
          "base_uri": "https://localhost:8080/",
          "height": 625
        },
        "id": "boXv0D3_M_7x",
        "outputId": "a030df39-7ef0-434f-c1ac-7494bafc64ed"
      },
      "source": [
        "lasso_training_r2 = pd.Series(lasso_results['training score'])\n",
        "lasso_test_r2 = pd.Series(lasso_results['test score'])\n",
        "\n",
        "lasso_training_r2.plot()\n",
        "lasso_test_r2.plot()\n",
        "plt.title('$R^2$ for Lasso Regression')\n",
        "plt.legend(['Training','Test'])\n",
        "plt.xlabel('Alpha (Regularization Level)')\n",
        "plt.ylabel('Percent of Variance Explained')\n",
        "plt.show()"
      ],
      "execution_count": 28,
      "outputs": [
        {
          "output_type": "display_data",
          "data": {
            "image/png": "[encoded data removed]",
            "text/plain": [
              "<Figure size 720x720 with 1 Axes>"
            ]
          },
          "metadata": {
            "needs_background": "light"
          }
        }
      ]
    },
    {
      "cell_type": "markdown",
      "metadata": {
        "id": "M5f5pb-Nnc0b"
      },
      "source": [
        "# **Run a Ridge or Lasso regression with a few different levels of regularization strength. Does this help or hurt performance? What happens as you increase the regularization strength? How do the coefficients compare with OLS? Explain what you are seeing and provide any supporting charts.**\n",
        "\n",
        "## Upon running the ridge regression with the various levels of the regularization of 0,1,4,8,10 we got the training R-square over above94% where as it declined over the increase of the lambda which indeed hurts the prediction. The coefficient when compared to the OLS seems to be invariably big and should evident that it doesn't square and to optmize the solutiong the coefficients tends to be big. The Graphs for the provided information are implemented below with different levels of regularization."
      ]
    }
  ]
}